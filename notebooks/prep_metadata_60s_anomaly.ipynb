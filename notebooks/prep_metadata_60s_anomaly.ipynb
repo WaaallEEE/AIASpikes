{
 "cells": [
  {
   "cell_type": "code",
   "execution_count": null,
   "id": "e50cc5f1-c4ba-4277-b072-7bb61d483879",
   "metadata": {},
   "outputs": [],
   "source": [
    "import pandas as pd\n",
    "from pathlib import Path\n",
    "import glob"
   ]
  },
  {
   "cell_type": "code",
   "execution_count": null,
   "id": "33d3642f-cc94-447a-aabd-76c7e5bc10e6",
   "metadata": {},
   "outputs": [],
   "source": [
    "def prep_keys(df):\n",
    "    df.drop('T_REC', axis=1, inplace=True)\n",
    "    df.drop('WAVE_STR', axis=1, inplace=True)\n",
    "    df.drop('PIXLUNIT', axis=1, inplace=True)\n",
    "    date_obs_c = df['DATE__OBS'].apply(lambda dobs: fix_date_obs(dobs))\n",
    "    df['DATE_OBS_c'] = date_obs_c\n",
    "    df['T_OBS'] = pd.to_datetime(df['T_OBS'], utc=True)\n",
    "    df['DATE'] = pd.to_datetime(df['DATE'], utc=True)\n",
    "    df.set_index('T_OBS', inplace=True)\n",
    "    return \n",
    "\n",
    "def fix_date_obs(dobs):\n",
    "    sec = pd.Timedelta(int(dobs[-6:-4]), unit='s')\n",
    "    if sec < pd.Timedelta(60, unit='s'):\n",
    "        return pd.to_datetime(dobs, utc=True)\n",
    "    print(dobs)\n",
    "    trunc_date = pd.to_datetime(dobs[0:-7], utc=True)\n",
    "    hundredth_sec =  pd.Timedelta(int(dobs[-3:-1])/100, unit='s')\n",
    "    corrected_date = trunc_date + sec + hundredth_sec\n",
    "    print('corrected: ', corrected_date)\n",
    "    return corrected_date"
   ]
  },
  {
   "cell_type": "code",
   "execution_count": null,
   "id": "5f629e25-42c8-4c97-8cff-2e86497a0771",
   "metadata": {},
   "outputs": [],
   "source": [
    "dataf = Path('/mnt/data2/SDO/AIA/keys_aia_2012.txt')\n",
    "dataf.is_file()"
   ]
  },
  {
   "cell_type": "code",
   "execution_count": null,
   "id": "aa612173-c74b-4c23-923c-6e89ac092369",
   "metadata": {},
   "outputs": [],
   "source": [
    "df = pd.read_csv(dataf, delimiter='\\t')\n",
    "df"
   ]
  },
  {
   "cell_type": "code",
   "execution_count": null,
   "id": "67733e44-4729-4799-a2a3-a753e8396632",
   "metadata": {},
   "outputs": [],
   "source": [
    "pd.Timestamp(df['DATE__OBS'][0][0:-7])"
   ]
  },
  {
   "cell_type": "code",
   "execution_count": null,
   "id": "b46af8a5-0bc4-4812-8dd4-dcc6a849ea5a",
   "metadata": {},
   "outputs": [],
   "source": [
    "pd.Timedelta(int(df['DATE__OBS'][0][-6:-4]), unit='s')"
   ]
  },
  {
   "cell_type": "code",
   "execution_count": null,
   "id": "ba652eb4-19d2-4525-aad5-cb87e0a198fb",
   "metadata": {},
   "outputs": [],
   "source": [
    "pd.Timedelta(int(df['DATE__OBS'][0][-3:-1])/100, unit='s')"
   ]
  },
  {
   "cell_type": "code",
   "execution_count": null,
   "id": "7a54f2b3-bc72-4059-8edc-92a7f70c3ab4",
   "metadata": {},
   "outputs": [],
   "source": [
    "date_obs_c = df['DATE__OBS'].apply(lambda dobs: fix_date_obs(dobs))\n",
    "df['DATE_OBS'] = date_obs_c\n",
    "df['DATE_OBS'].head()"
   ]
  },
  {
   "cell_type": "markdown",
   "id": "7a470870-ee04-4a2c-aae4-df10a89f9711",
   "metadata": {},
   "source": [
    "See fix at https://github.com/MSKirk/AIASpikes/blob/master/fits_time_60s_check.py"
   ]
  },
  {
   "cell_type": "code",
   "execution_count": null,
   "id": "869d1810-2d0d-46e1-9f8e-9c886278004d",
   "metadata": {},
   "outputs": [],
   "source": []
  },
  {
   "cell_type": "code",
   "execution_count": null,
   "id": "aa216dbe-7f1b-48ea-ac64-7dd4d608e477",
   "metadata": {},
   "outputs": [],
   "source": [
    "a1 = df['DATE_OBS'] > pd.Timestamp('2012-07-01 00:00:00', tz='UTC') \n",
    "a2 = df['DATE_OBS'] < pd.Timestamp('2012-07-01 00:00:05', tz='UTC')\n",
    "\n",
    "b = a1 & a2\n",
    "df[b]"
   ]
  },
  {
   "cell_type": "code",
   "execution_count": null,
   "id": "c72bdb2c-25cc-4e19-8f62-cbdc0fd53398",
   "metadata": {},
   "outputs": [],
   "source": []
  }
 ],
 "metadata": {
  "kernelspec": {
   "display_name": "Python 3 (ipykernel)",
   "language": "python",
   "name": "python3"
  },
  "language_info": {
   "codemirror_mode": {
    "name": "ipython",
    "version": 3
   },
   "file_extension": ".py",
   "mimetype": "text/x-python",
   "name": "python",
   "nbconvert_exporter": "python",
   "pygments_lexer": "ipython3",
   "version": "3.8.10"
  }
 },
 "nbformat": 4,
 "nbformat_minor": 5
}
