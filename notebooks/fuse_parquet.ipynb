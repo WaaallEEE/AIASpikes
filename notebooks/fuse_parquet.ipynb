{
 "cells": [
  {
   "cell_type": "code",
   "execution_count": 1,
   "id": "99a707d6-c7bf-4e7f-8b2b-aa6617fa7633",
   "metadata": {},
   "outputs": [],
   "source": [
    "import pandas as pd\n",
    "from pathlib import Path\n",
    "import glob\n",
    "import dask.dataframe as dd\n",
    "import numpy as np"
   ]
  },
  {
   "cell_type": "code",
   "execution_count": 2,
   "id": "b2a3ea5f-fba0-47fa-a454-41da379587b1",
   "metadata": {},
   "outputs": [
    {
     "data": {
      "text/plain": [
       "[PosixPath('/mnt/data2/SDO/AIA/parquet/keys_aia_2010.parquet'),\n",
       " PosixPath('/mnt/data2/SDO/AIA/parquet/keys_aia_2011.parquet'),\n",
       " PosixPath('/mnt/data2/SDO/AIA/parquet/keys_aia_2012.parquet'),\n",
       " PosixPath('/mnt/data2/SDO/AIA/parquet/keys_aia_2013.parquet'),\n",
       " PosixPath('/mnt/data2/SDO/AIA/parquet/keys_aia_2014.parquet'),\n",
       " PosixPath('/mnt/data2/SDO/AIA/parquet/keys_aia_2015.parquet'),\n",
       " PosixPath('/mnt/data2/SDO/AIA/parquet/keys_aia_2016.parquet'),\n",
       " PosixPath('/mnt/data2/SDO/AIA/parquet/keys_aia_2017.parquet'),\n",
       " PosixPath('/mnt/data2/SDO/AIA/parquet/keys_aia_2018.parquet'),\n",
       " PosixPath('/mnt/data2/SDO/AIA/parquet/keys_aia_2019.parquet'),\n",
       " PosixPath('/mnt/data2/SDO/AIA/parquet/keys_aia_2020.parquet'),\n",
       " PosixPath('/mnt/data2/SDO/AIA/parquet/keys_aia_2021.parquet'),\n",
       " PosixPath('/mnt/data2/SDO/AIA/parquet/keys_aia_2022.parquet')]"
      ]
     },
     "execution_count": 2,
     "metadata": {},
     "output_type": "execute_result"
    }
   ],
   "source": [
    "files = sorted(glob.glob('/mnt/data2/SDO/AIA/parquet/keys*.parquet'))\n",
    "fpaths = [Path(f) for f in files]\n",
    "fpaths"
   ]
  },
  {
   "cell_type": "code",
   "execution_count": 3,
   "id": "25ffa766-26d7-4cdf-ac11-76cf82930b79",
   "metadata": {},
   "outputs": [],
   "source": [
    "# Read all files in `data/`\n",
    "df = dd.read_parquet(\"/mnt/data2/SDO/AIA/parquet/\", split_row_groups=False)"
   ]
  },
  {
   "cell_type": "code",
   "execution_count": null,
   "id": "a7e2de0d-254b-4747-9664-1eba24714629",
   "metadata": {},
   "outputs": [],
   "source": [
    "# Export to 20 `.parquet` files\n",
    "# df.repartition(npartitions=20).to_parquet(\"/mnt/data2/SDO/AIA/parquet/combined\")"
   ]
  },
  {
   "cell_type": "code",
   "execution_count": 11,
   "id": "70211c0d-ff54-45cf-b1a4-2f8300171590",
   "metadata": {},
   "outputs": [],
   "source": [
    "nspikes = df[df['WAVELNTH'] == 171]['NSPIKES'].astype(np.int32).compute()"
   ]
  },
  {
   "cell_type": "code",
   "execution_count": 12,
   "id": "46407841-543c-42b4-be32-870ff7165b81",
   "metadata": {},
   "outputs": [
    {
     "data": {
      "text/plain": [
       "T_OBS\n",
       "2010-06-01 00:00:06.570000+00:00    18976\n",
       "2010-06-01 00:00:18.570000+00:00    18866\n",
       "2010-06-01 00:00:36.550000+00:00    21689\n",
       "2010-06-01 00:00:48.580000+00:00    20180\n",
       "2010-06-01 00:01:00.560000+00:00    21066\n",
       "                                    ...  \n",
       "2022-06-09 23:59:22.350000+00:00      698\n",
       "2022-06-09 23:59:34.350000+00:00      501\n",
       "2022-06-09 23:59:46.350000+00:00      610\n",
       "2022-06-09 23:59:58.350000+00:00      587\n",
       "2022-06-10 00:00:10.350000+00:00      608\n",
       "Name: NSPIKES, Length: 31285457, dtype: int32"
      ]
     },
     "execution_count": 12,
     "metadata": {},
     "output_type": "execute_result"
    }
   ],
   "source": [
    "nspikes"
   ]
  },
  {
   "cell_type": "code",
   "execution_count": 16,
   "id": "dbe59716-a4fc-4e09-996c-5a10144896a9",
   "metadata": {},
   "outputs": [],
   "source": [
    "# Resample to every 48s, use nearest neighbor\n",
    "nspikes = nspikes.resample('48s').nearest()"
   ]
  },
  {
   "cell_type": "code",
   "execution_count": 17,
   "id": "e194a8d1-1ac6-474e-a3ae-92c82834cf80",
   "metadata": {},
   "outputs": [
    {
     "data": {
      "text/plain": [
       "T_OBS\n",
       "2010-06-01 00:00:00+00:00    18976\n",
       "2010-06-01 00:00:48+00:00    20180\n",
       "2010-06-01 00:01:36+00:00    19395\n",
       "2010-06-01 00:02:24+00:00    20221\n",
       "2010-06-01 00:03:12+00:00    21877\n",
       "                             ...  \n",
       "2022-06-09 23:56:48+00:00      629\n",
       "2022-06-09 23:57:36+00:00      631\n",
       "2022-06-09 23:58:24+00:00      579\n",
       "2022-06-09 23:59:12+00:00      887\n",
       "2022-06-10 00:00:00+00:00      587\n",
       "Freq: 48S, Name: NSPIKES, Length: 7905601, dtype: int32"
      ]
     },
     "execution_count": 17,
     "metadata": {},
     "output_type": "execute_result"
    }
   ],
   "source": [
    "nspikes"
   ]
  },
  {
   "cell_type": "code",
   "execution_count": null,
   "id": "4d3b3419-753d-45df-9c09-089326c46db4",
   "metadata": {},
   "outputs": [],
   "source": []
  }
 ],
 "metadata": {
  "kernelspec": {
   "display_name": "Python 3 (ipykernel)",
   "language": "python",
   "name": "python3"
  },
  "language_info": {
   "codemirror_mode": {
    "name": "ipython",
    "version": 3
   },
   "file_extension": ".py",
   "mimetype": "text/x-python",
   "name": "python",
   "nbconvert_exporter": "python",
   "pygments_lexer": "ipython3",
   "version": "3.8.16"
  }
 },
 "nbformat": 4,
 "nbformat_minor": 5
}
