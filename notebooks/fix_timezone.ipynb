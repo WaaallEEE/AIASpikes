{
 "cells": [
  {
   "cell_type": "code",
   "execution_count": null,
   "metadata": {},
   "outputs": [],
   "source": [
    "import pandas as pd\n",
    "from pathlib import Path\n",
    "import glob\n",
    "import dask.dataframe as dd\n",
    "import pyarrow.parquet as pq"
   ]
  },
  {
   "cell_type": "code",
   "execution_count": null,
   "metadata": {},
   "outputs": [],
   "source": [
    "files = sorted(glob.glob('/mnt/data2/SDO/AIA/parquet/original_parquet/keys*.parquet'))\n",
    "fpaths = [Path(f) for f in files]\n",
    "fpaths"
   ]
  },
  {
   "cell_type": "code",
   "execution_count": null,
   "metadata": {},
   "outputs": [],
   "source": [
    "for f in fpaths:\n",
    "    df = pd.read_parquet(f)\n",
    "#     df.index = pd.to_datetime(df.index).tz_localize(None)\n",
    "#     df['DATE_OBS_c'] = pd.to_datetime(df['DATE_OBS_c']).dt.tz_localize(None)\n",
    "#     df['DATE'] = pd.to_datetime(df['DATE']).dt.tz_localize(None)\n",
    "    df.to_parquet(f.with_suffix('.12s.parquet'), row_group_size=int(len(df)/20))\n",
    "#     df.to_parquet(f.with_suffix('.12s.parquet'), row_group_size=int(len(df)/20))"
   ]
  },
  {
   "cell_type": "code",
   "execution_count": null,
   "metadata": {},
   "outputs": [],
   "source": [
    "files2 = sorted(glob.glob('/mnt/data2/SDO/AIA/parquet/old_parquet/keys*12s.parquet'))\n",
    "fpaths2 = [Path(f) for f in files]\n",
    "fpaths2\n",
    "pqfile = pq.ParquetFile(fpaths2[1])\n",
    "pqfile.metadata.num_row_groups"
   ]
  }
 ],
 "metadata": {
  "kernelspec": {
   "display_name": "Python 3 (ipykernel)",
   "language": "python",
   "name": "python3"
  },
  "language_info": {
   "codemirror_mode": {
    "name": "ipython",
    "version": 3
   },
   "file_extension": ".py",
   "mimetype": "text/x-python",
   "name": "python",
   "nbconvert_exporter": "python",
   "pygments_lexer": "ipython3",
   "version": "3.8.10"
  }
 },
 "nbformat": 4,
 "nbformat_minor": 4
}
