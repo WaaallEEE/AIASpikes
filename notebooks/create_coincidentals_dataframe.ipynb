{
 "cells": [
  {
   "cell_type": "code",
   "execution_count": 1,
   "metadata": {},
   "outputs": [
    {
     "data": {
      "text/plain": [
       "True"
      ]
     },
     "execution_count": 1,
     "metadata": {},
     "output_type": "execute_result"
    }
   ],
   "source": [
    "import os\n",
    "import pandas as pd\n",
    "import numpy as np\n",
    "import fitsio\n",
    "from pathlib import Path, PurePath\n",
    "from dotenv import load_dotenv\n",
    "\n",
    "load_dotenv()"
   ]
  },
  {
   "cell_type": "code",
   "execution_count": 117,
   "metadata": {},
   "outputs": [],
   "source": [
    "def create_lookup_8nb(nx, ny):\n",
    "    \"\"\" Pre-compute the 8-connectivity lookup table. This will be shared across parallel workers.\n",
    "    :param nx:\n",
    "    :param ny:\n",
    "    :return:\n",
    "    \"\"\"\n",
    "    # List of relative 2D coordinates for 8-neighbour connectiviy (9-element list). 1st one is the origin pixel.\n",
    "    coords_8nb = np.array([[0, 0], [-1, 0], [-1, -1], [0, -1], [1, -1], [1, 0], [1, 1], [0, 1], [-1, 1]])\n",
    "    # Array of 2D coordinates for a 4096 x 4096 array. Matrix convention is kept. [rows, cols] = [y-axis, x-axis]\n",
    "    coords_1d = np.arange(nx * ny)\n",
    "    coordy, coordx = np.unravel_index(coords_1d, [ny, nx]) # also possible by raveling a meshgrid() output\n",
    "    coords2d = np.array([coordy, coordx])\n",
    "    # Create the array of 2D coordinates of 8-neighbours associated with each pixel.\n",
    "    # pixel 0 has 8 neighbour + itself, pixel 1 has 8 neighbour + itself, etc...\n",
    "    coords2d_8nb = coords2d[np.newaxis, ...] + coords_8nb[..., np.newaxis]\n",
    "    # Handle off-edges coordinates by clipping to the edges, operation done in-place. Here, square detector assumed.\n",
    "    # to per-axis clipping if that ever changes for another instrument.\n",
    "    np.clip(coords2d_8nb, 0, nx-1, out=coords2d_8nb)\n",
    "    # Convert to 1D coordinates.\n",
    "    lookup_coords = np.array([coords2d_8nb[i, 0, :] * nx + coords2d_8nb[i, 1, :] for i in range(len(coords_8nb))],\n",
    "                         dtype='int32', order='C').T\n",
    "    return lookup_coords\n",
    "\n",
    "\n",
    "def extract_coincidentals(spikes_list, idx):\n",
    "    # Spikes coordinates at given wavelength index\n",
    "    spikes_w = spikes_list[idx]\n",
    "    # Associated neighbour coordinates\n",
    "    nb_pixels = index_8nb[spikes_w[0, :], :]\n",
    "    # Sublist of spikes data that will excludes the one serving as template\n",
    "    spikes_sublist = spikes_list[:idx] + spikes_list[idx + 1:]\n",
    "    # Coincidental cross-referencing.\n",
    "    # mask_w_arr = np.array([np.isin(nb_pixels, index_8nb[spikes[0, :], :]).any(axis=1) for spikes in spikes_sublist])\n",
    "    mask_w_arr = np.array([np.isin(nb_pixels, spikes[0, :]).any(axis=1) for spikes in spikes_sublist])\n",
    "    select_pixels = mask_w_arr.any(axis=0)\n",
    "    coords_w = spikes_w[0, select_pixels]\n",
    "    w_tables = np.insert(mask_w_arr[:, select_pixels], idx, True, axis=0)\n",
    "    # Retrieve intensity values for the selected coordinates\n",
    "    intensities = spikes_w[1:, select_pixels]\n",
    "    arr_w = np.concatenate([coords_w[np.newaxis, ...], intensities, w_tables], axis=0)\n",
    "    arr_w = np.insert(arr_w, 3, idx, axis=0)\n",
    "    return arr_w\n",
    "\n",
    "\n",
    "def process_group(group_n):\n",
    "    fpaths = path_Series.loc[group_n]\n",
    "    spikes_list = [fitsio.read(os.path.join(os.environ['SPIKESDATA'], f)) for f in fpaths]\n",
    "    group_data = np.concatenate([extract_coincidentals(spikes_list, i) for i in range(7)], axis=1)\n",
    "    column_names = ['coords', 'int1', 'int2', 'wref', 'w0', 'w1', 'w2', 'w3', 'w4', 'w5', 'w6']\n",
    "    coincidental_spikes_df = pd.DataFrame(group_data.T, columns=column_names)\n",
    "    coincidental_spikes_df['GroupNumber'] = group_n\n",
    "    return coincidental_spikes_df"
   ]
  },
  {
   "cell_type": "code",
   "execution_count": 4,
   "metadata": {},
   "outputs": [
    {
     "name": "stdout",
     "output_type": "stream",
     "text": [
      "/Users/rattie/data/spikes\n"
     ]
    }
   ],
   "source": [
    "SPIKESDATA = os.environ['SPIKESDATA']\n",
    "print(SPIKESDATA)\n",
    "column_names = ['coords', 'int1', 'int2', 'wref', 'w1', 'w2', 'w3', 'w4', 'w4', 'w5', 'w6', 'w7']"
   ]
  },
  {
   "cell_type": "code",
   "execution_count": 30,
   "metadata": {},
   "outputs": [
    {
     "name": "stdout",
     "output_type": "stream",
     "text": [
      "(16777216, 9)\n",
      "[   0    0    0    0 4096 4096 4097    1    1]\n"
     ]
    }
   ],
   "source": [
    "index_8nb = create_lookup_8nb(4096, 4096)\n",
    "print(index_8nb.shape)\n",
    "print(index_8nb[0, :])"
   ]
  },
  {
   "cell_type": "code",
   "execution_count": 8,
   "metadata": {},
   "outputs": [
    {
     "data": {
      "text/html": [
       "<div>\n",
       "<style scoped>\n",
       "    .dataframe tbody tr th:only-of-type {\n",
       "        vertical-align: middle;\n",
       "    }\n",
       "\n",
       "    .dataframe tbody tr th {\n",
       "        vertical-align: top;\n",
       "    }\n",
       "\n",
       "    .dataframe thead th {\n",
       "        text-align: right;\n",
       "    }\n",
       "</style>\n",
       "<table border=\"1\" class=\"dataframe\">\n",
       "  <thead>\n",
       "    <tr style=\"text-align: right;\">\n",
       "      <th></th>\n",
       "      <th>Path</th>\n",
       "      <th>Size</th>\n",
       "      <th>Time</th>\n",
       "      <th>Wavelength</th>\n",
       "      <th>GroupNumber</th>\n",
       "    </tr>\n",
       "  </thead>\n",
       "  <tbody>\n",
       "    <tr>\n",
       "      <th>1</th>\n",
       "      <td>2018/01/01/2018-01-01T00h00m00.57Z_0094.spikes...</td>\n",
       "      <td>46080</td>\n",
       "      <td>2018-01-01 00:00:00.570000+00:00</td>\n",
       "      <td>94</td>\n",
       "      <td>1</td>\n",
       "    </tr>\n",
       "    <tr>\n",
       "      <th>2</th>\n",
       "      <td>2018/01/01/2018-01-01T00h00m02.07Z_0335.spikes...</td>\n",
       "      <td>72000</td>\n",
       "      <td>2018-01-01 00:00:02.070000+00:00</td>\n",
       "      <td>335</td>\n",
       "      <td>1</td>\n",
       "    </tr>\n",
       "    <tr>\n",
       "      <th>3</th>\n",
       "      <td>2018/01/01/2018-01-01T00h00m05.84Z_0193.spikes...</td>\n",
       "      <td>25920</td>\n",
       "      <td>2018-01-01 00:00:05.840000+00:00</td>\n",
       "      <td>193</td>\n",
       "      <td>1</td>\n",
       "    </tr>\n",
       "    <tr>\n",
       "      <th>4</th>\n",
       "      <td>2018/01/01/2018-01-01T00h00m06.58Z_0304.spikes...</td>\n",
       "      <td>77760</td>\n",
       "      <td>2018-01-01 00:00:06.580000+00:00</td>\n",
       "      <td>304</td>\n",
       "      <td>1</td>\n",
       "    </tr>\n",
       "    <tr>\n",
       "      <th>5</th>\n",
       "      <td>2018/01/01/2018-01-01T00h00m08.07Z_0131.spikes...</td>\n",
       "      <td>51840</td>\n",
       "      <td>2018-01-01 00:00:08.070000+00:00</td>\n",
       "      <td>131</td>\n",
       "      <td>1</td>\n",
       "    </tr>\n",
       "    <tr>\n",
       "      <th>...</th>\n",
       "      <td>...</td>\n",
       "      <td>...</td>\n",
       "      <td>...</td>\n",
       "      <td>...</td>\n",
       "      <td>...</td>\n",
       "    </tr>\n",
       "    <tr>\n",
       "      <th>50386</th>\n",
       "      <td>2018/01/01/2018-01-01T23h59m41.84Z_0193.spikes...</td>\n",
       "      <td>54720</td>\n",
       "      <td>2018-01-01 23:59:41.840000+00:00</td>\n",
       "      <td>193</td>\n",
       "      <td>7199</td>\n",
       "    </tr>\n",
       "    <tr>\n",
       "      <th>50387</th>\n",
       "      <td>2018/01/01/2018-01-01T23h59m42.58Z_0304.spikes...</td>\n",
       "      <td>178560</td>\n",
       "      <td>2018-01-01 23:59:42.580000+00:00</td>\n",
       "      <td>304</td>\n",
       "      <td>7199</td>\n",
       "    </tr>\n",
       "    <tr>\n",
       "      <th>50388</th>\n",
       "      <td>2018/01/01/2018-01-01T23h59m44.07Z_0131.spikes...</td>\n",
       "      <td>135360</td>\n",
       "      <td>2018-01-01 23:59:44.070000+00:00</td>\n",
       "      <td>131</td>\n",
       "      <td>7199</td>\n",
       "    </tr>\n",
       "    <tr>\n",
       "      <th>50389</th>\n",
       "      <td>2018/01/01/2018-01-01T23h59m46.35Z_0171.spikes...</td>\n",
       "      <td>48960</td>\n",
       "      <td>2018-01-01 23:59:46.350000+00:00</td>\n",
       "      <td>171</td>\n",
       "      <td>7199</td>\n",
       "    </tr>\n",
       "    <tr>\n",
       "      <th>50390</th>\n",
       "      <td>2018/01/01/2018-01-01T23h59m47.08Z_0211.spikes...</td>\n",
       "      <td>95040</td>\n",
       "      <td>2018-01-01 23:59:47.080000+00:00</td>\n",
       "      <td>211</td>\n",
       "      <td>7199</td>\n",
       "    </tr>\n",
       "  </tbody>\n",
       "</table>\n",
       "<p>50372 rows × 5 columns</p>\n",
       "</div>"
      ],
      "text/plain": [
       "                                                    Path    Size  \\\n",
       "1      2018/01/01/2018-01-01T00h00m00.57Z_0094.spikes...   46080   \n",
       "2      2018/01/01/2018-01-01T00h00m02.07Z_0335.spikes...   72000   \n",
       "3      2018/01/01/2018-01-01T00h00m05.84Z_0193.spikes...   25920   \n",
       "4      2018/01/01/2018-01-01T00h00m06.58Z_0304.spikes...   77760   \n",
       "5      2018/01/01/2018-01-01T00h00m08.07Z_0131.spikes...   51840   \n",
       "...                                                  ...     ...   \n",
       "50386  2018/01/01/2018-01-01T23h59m41.84Z_0193.spikes...   54720   \n",
       "50387  2018/01/01/2018-01-01T23h59m42.58Z_0304.spikes...  178560   \n",
       "50388  2018/01/01/2018-01-01T23h59m44.07Z_0131.spikes...  135360   \n",
       "50389  2018/01/01/2018-01-01T23h59m46.35Z_0171.spikes...   48960   \n",
       "50390  2018/01/01/2018-01-01T23h59m47.08Z_0211.spikes...   95040   \n",
       "\n",
       "                                  Time  Wavelength  GroupNumber  \n",
       "1     2018-01-01 00:00:00.570000+00:00          94            1  \n",
       "2     2018-01-01 00:00:02.070000+00:00         335            1  \n",
       "3     2018-01-01 00:00:05.840000+00:00         193            1  \n",
       "4     2018-01-01 00:00:06.580000+00:00         304            1  \n",
       "5     2018-01-01 00:00:08.070000+00:00         131            1  \n",
       "...                                ...         ...          ...  \n",
       "50386 2018-01-01 23:59:41.840000+00:00         193         7199  \n",
       "50387 2018-01-01 23:59:42.580000+00:00         304         7199  \n",
       "50388 2018-01-01 23:59:44.070000+00:00         131         7199  \n",
       "50389 2018-01-01 23:59:46.350000+00:00         171         7199  \n",
       "50390 2018-01-01 23:59:47.080000+00:00         211         7199  \n",
       "\n",
       "[50372 rows x 5 columns]"
      ]
     },
     "execution_count": 8,
     "metadata": {},
     "output_type": "execute_result"
    }
   ],
   "source": [
    "spikes_df = pd.read_parquet(Path(os.environ['SPIKESDATA'], 'spikes_df_2018.parquet'),\n",
    "                                engine='pyarrow')"
   ]
  },
  {
   "cell_type": "code",
   "execution_count": 9,
   "metadata": {},
   "outputs": [
    {
     "data": {
      "text/plain": [
       "GroupNumber  Time                            \n",
       "1            2018-01-01 00:00:00.570000+00:00    2018/01/01/2018-01-01T00h00m00.57Z_0094.spikes...\n",
       "             2018-01-01 00:00:02.070000+00:00    2018/01/01/2018-01-01T00h00m02.07Z_0335.spikes...\n",
       "             2018-01-01 00:00:05.840000+00:00    2018/01/01/2018-01-01T00h00m05.84Z_0193.spikes...\n",
       "             2018-01-01 00:00:06.580000+00:00    2018/01/01/2018-01-01T00h00m06.58Z_0304.spikes...\n",
       "             2018-01-01 00:00:08.070000+00:00    2018/01/01/2018-01-01T00h00m08.07Z_0131.spikes...\n",
       "                                                                       ...                        \n",
       "7199         2018-01-01 23:59:41.840000+00:00    2018/01/01/2018-01-01T23h59m41.84Z_0193.spikes...\n",
       "             2018-01-01 23:59:42.580000+00:00    2018/01/01/2018-01-01T23h59m42.58Z_0304.spikes...\n",
       "             2018-01-01 23:59:44.070000+00:00    2018/01/01/2018-01-01T23h59m44.07Z_0131.spikes...\n",
       "             2018-01-01 23:59:46.350000+00:00    2018/01/01/2018-01-01T23h59m46.35Z_0171.spikes...\n",
       "             2018-01-01 23:59:47.080000+00:00    2018/01/01/2018-01-01T23h59m47.08Z_0211.spikes...\n",
       "Name: Path, Length: 50372, dtype: object"
      ]
     },
     "execution_count": 9,
     "metadata": {},
     "output_type": "execute_result"
    }
   ],
   "source": [
    "spikes_df2 = spikes_df.set_index(['GroupNumber', 'Time'])\n",
    "path_Series = spikes_df2['Path']\n",
    "path_Series"
   ]
  },
  {
   "cell_type": "code",
   "execution_count": 13,
   "metadata": {},
   "outputs": [
    {
     "name": "stdout",
     "output_type": "stream",
     "text": [
      "2018-01-01 00:00:00+00:00 2018-01-01 01:00:00+00:00\n"
     ]
    }
   ],
   "source": [
    "tintervals = pd.interval_range(start=pd.Timestamp('2018-01-01 00:00:00', tz='UTC'),\n",
    "                                   end=pd.Timestamp('2018-01-01 23:59:59', tz='UTC'),\n",
    "                                   freq='H', closed='left')\n",
    "\n",
    "tint = tintervals[0]\n",
    "print(tint.left, tint.right)"
   ]
  },
  {
   "cell_type": "code",
   "execution_count": 16,
   "metadata": {},
   "outputs": [
    {
     "name": "stdout",
     "output_type": "stream",
     "text": [
      "[  1   2   3   4   5   6   7   8   9  10  11  12  13  14  15  16  17  18\n",
      "  19  20  21  22  23  24  25  26  27  28  29  30  31  32  33  34  35  36\n",
      "  37  38  39  40  41  42  43  44  45  46  47  48  49  50  51  52  53  54\n",
      "  55  56  57  58  59  60  61  62  63  64  65  66  67  68  69  70  71  72\n",
      "  73  74  75  76  77  78  79  80  81  82  83  84  85  86  87  88  89  90\n",
      "  91  92  93  94  95  96  97  98  99 100 101 102 103 104 105 106 107 108\n",
      " 109 110 111 112 113 114 115 116 117 118 119 120 121 122 123 124 125 126\n",
      " 127 128 129 130 131 132 133 134 135 136 137 138 139 140 141 142 143 144\n",
      " 145 146 147 148 149 150 151 152 153 154 155 156 157 158 159 160 161 162\n",
      " 163 164 165 166 167 168 169 170 171 172 173 174 175 176 177 178 179 180\n",
      " 181 182 183 184 185 186 187 188 189 190 191 192 193 194 195 196 197 198\n",
      " 199 200 201 202 203 204 205 206 207 208 209 210 211 212 213 214 215 216\n",
      " 217 218 219 220 221 222 223 224 225 226 227 228 229 230 231 232 233 234\n",
      " 235 236 237 238 239 240 241 242 243 244 245 246 247 248 249 250 251 252\n",
      " 253 254 255 256 257 258 259 260 261 262 263 264 265 266 267 268 269 270\n",
      " 271 272 273 274 275 276 277 278 279 280 281 282 283 284 285 286 287 288\n",
      " 289 290 291 292 293 294 295 296 297 298 299 300]\n"
     ]
    }
   ],
   "source": [
    "groups = spikes_df['GroupNumber'].loc[(spikes_df['Time'] >= tint.left) & (spikes_df['Time'] < tint.right)].unique()\n",
    "print(groups)\n",
    "group_n = groups[0]"
   ]
  },
  {
   "cell_type": "code",
   "execution_count": 17,
   "metadata": {},
   "outputs": [
    {
     "data": {
      "text/plain": [
       "Time\n",
       "2018-01-01 00:00:00.570000+00:00    2018/01/01/2018-01-01T00h00m00.57Z_0094.spikes...\n",
       "2018-01-01 00:00:02.070000+00:00    2018/01/01/2018-01-01T00h00m02.07Z_0335.spikes...\n",
       "2018-01-01 00:00:05.840000+00:00    2018/01/01/2018-01-01T00h00m05.84Z_0193.spikes...\n",
       "2018-01-01 00:00:06.580000+00:00    2018/01/01/2018-01-01T00h00m06.58Z_0304.spikes...\n",
       "2018-01-01 00:00:08.070000+00:00    2018/01/01/2018-01-01T00h00m08.07Z_0131.spikes...\n",
       "2018-01-01 00:00:10.350000+00:00    2018/01/01/2018-01-01T00h00m10.35Z_0171.spikes...\n",
       "2018-01-01 00:00:11.080000+00:00    2018/01/01/2018-01-01T00h00m11.08Z_0211.spikes...\n",
       "Name: Path, dtype: object"
      ]
     },
     "execution_count": 17,
     "metadata": {},
     "output_type": "execute_result"
    }
   ],
   "source": [
    "path_Series.loc[groups[0]]"
   ]
  },
  {
   "cell_type": "code",
   "execution_count": 20,
   "metadata": {},
   "outputs": [
    {
     "data": {
      "text/plain": [
       "(array([[   16790,    18914,    23002, ..., 16705662, 16755371, 16763519],\n",
       "        [     505,       16,       40, ...,        9,        9,       10],\n",
       "        [       0,        0,        0, ...,        0,        0,       -1]],\n",
       "       dtype=int32),\n",
       " array([[   10764,    11421,    18668, ..., 16743183, 16753046, 16764379],\n",
       "        [     150,       72,      630, ...,        9,       13,        8],\n",
       "        [       0,       -1,        0, ...,        0,        0,        0]],\n",
       "       dtype=int32))"
      ]
     },
     "execution_count": 20,
     "metadata": {},
     "output_type": "execute_result"
    }
   ],
   "source": [
    "fpaths = path_Series.loc[groups[0]]\n",
    "spikes_list = [fitsio.read(Path(SPIKESDATA, f).as_posix()) for f in fpaths]\n",
    "spikes_list[0], spikes_list[1]"
   ]
  },
  {
   "cell_type": "code",
   "execution_count": 21,
   "metadata": {},
   "outputs": [
    {
     "name": "stdout",
     "output_type": "stream",
     "text": [
      "(3, 11907)\n",
      "(3, 20566)\n",
      "(3, 4830)\n",
      "(3, 21027)\n",
      "(3, 13184)\n",
      "(3, 4201)\n",
      "(3, 9492)\n"
     ]
    }
   ],
   "source": [
    "for spikes in spikes_list:\n",
    "    print(spikes.shape)"
   ]
  },
  {
   "cell_type": "code",
   "execution_count": 99,
   "metadata": {},
   "outputs": [
    {
     "name": "stdout",
     "output_type": "stream",
     "text": [
      "(11907, 9)\n"
     ]
    }
   ],
   "source": [
    "idx = 0\n",
    "# Spikes coordinates at given wavelength index\n",
    "spikes_w = spikes_list[idx]\n",
    "# Associated neighbour coordinates\n",
    "nb_pixels = index_8nb[spikes_w[0, :], :]\n",
    "print(nb_pixels.shape)"
   ]
  },
  {
   "cell_type": "code",
   "execution_count": 88,
   "metadata": {},
   "outputs": [
    {
     "data": {
      "text/plain": [
       "array([11000,  6904,  6903, 10999, 15095, 15096, 15097, 11001,  6905],\n",
       "      dtype=int32)"
      ]
     },
     "execution_count": 88,
     "metadata": {},
     "output_type": "execute_result"
    }
   ],
   "source": [
    "index_8nb[11000, :]"
   ]
  },
  {
   "cell_type": "code",
   "execution_count": 100,
   "metadata": {},
   "outputs": [],
   "source": [
    "# Sublist of spikes data that will excludes the one serving as template\n",
    "spikes_sublist = spikes_list[:idx] + spikes_list[idx + 1:]\n",
    "# Coincidental cross-referencing.\n",
    "mask_w_arr = np.array([np.isin(nb_pixels, spikes[0, :]).any(axis=1) for spikes in spikes_sublist])\n",
    "select_pixels = mask_w_arr.any(axis=0)\n",
    "coords_w = spikes_w[0, select_pixels]\n",
    "w_tables = np.insert(mask_w_arr[:, select_pixels], idx, True, axis=0)\n",
    "# Retrieve intensity values for the selected coordinates\n",
    "intensities = spikes_w[1:, select_pixels]\n",
    "arr_w = np.concatenate([coords_w[np.newaxis, ...], intensities, w_tables], axis=0)\n",
    "arr_w = np.insert(arr_w, 3, idx, axis=0)"
   ]
  },
  {
   "cell_type": "code",
   "execution_count": 101,
   "metadata": {},
   "outputs": [
    {
     "name": "stdout",
     "output_type": "stream",
     "text": [
      "(6, 11907)\n",
      "[[False False False ... False False False]\n",
      " [False False False ... False False False]\n",
      " [False False False ... False False False]\n",
      " [False False False ... False False False]\n",
      " [False False False ... False False False]\n",
      " [False False False ... False False False]]\n"
     ]
    }
   ],
   "source": [
    "print(mask_w_arr.shape)\n",
    "print(mask_w_arr)"
   ]
  },
  {
   "cell_type": "code",
   "execution_count": 102,
   "metadata": {},
   "outputs": [
    {
     "name": "stdout",
     "output_type": "stream",
     "text": [
      "(11907,)\n",
      "[False False False ... False False False]\n"
     ]
    }
   ],
   "source": [
    "print(select_pixels.shape)\n",
    "print(select_pixels)"
   ]
  },
  {
   "cell_type": "code",
   "execution_count": 103,
   "metadata": {},
   "outputs": [
    {
     "name": "stdout",
     "output_type": "stream",
     "text": [
      "(350,)\n"
     ]
    }
   ],
   "source": [
    "print(coords_w.shape)"
   ]
  },
  {
   "cell_type": "code",
   "execution_count": 108,
   "metadata": {},
   "outputs": [
    {
     "name": "stdout",
     "output_type": "stream",
     "text": [
      "[[False False False ... False False False]\n",
      " [ True False False ... False False False]\n",
      " [False False False ... False  True False]\n",
      " [False False False ...  True False  True]\n",
      " [False False False ... False False False]\n",
      " [False  True  True ... False False False]]\n"
     ]
    }
   ],
   "source": [
    "print(mask_w_arr[:, select_pixels])"
   ]
  },
  {
   "cell_type": "code",
   "execution_count": 104,
   "metadata": {},
   "outputs": [
    {
     "name": "stdout",
     "output_type": "stream",
     "text": [
      "(7, 350)\n",
      "[[ True  True  True ...  True  True  True]\n",
      " [False False False ... False False False]\n",
      " [ True False False ... False False False]\n",
      " ...\n",
      " [False False False ...  True False  True]\n",
      " [False False False ... False False False]\n",
      " [False  True  True ... False False False]]\n"
     ]
    }
   ],
   "source": [
    "print(w_tables.shape)\n",
    "print(w_tables)"
   ]
  },
  {
   "cell_type": "code",
   "execution_count": 107,
   "metadata": {},
   "outputs": [
    {
     "name": "stdout",
     "output_type": "stream",
     "text": [
      "(2, 350)\n",
      "(11, 350)\n",
      "[[  149558   205896   209992 ... 13290470 14044037 14279287]\n",
      " [     117      165      111 ...       19       15        9]\n",
      " [       0        0        0 ...        3        4        0]\n",
      " ...\n",
      " [       0        0        0 ...        1        0        1]\n",
      " [       0        0        0 ...        0        0        0]\n",
      " [       0        1        1 ...        0        0        0]]\n"
     ]
    }
   ],
   "source": [
    "print(intensities.shape)\n",
    "print(arr_w.shape)\n",
    "print(arr_w)"
   ]
  },
  {
   "cell_type": "code",
   "execution_count": 118,
   "metadata": {},
   "outputs": [],
   "source": [
    "group_data = np.concatenate([extract_coincidentals(spikes_list, i) for i in range(7)], axis=1)"
   ]
  },
  {
   "cell_type": "code",
   "execution_count": 120,
   "metadata": {},
   "outputs": [],
   "source": [
    "df = process_group(1)"
   ]
  },
  {
   "cell_type": "code",
   "execution_count": 122,
   "metadata": {},
   "outputs": [
    {
     "data": {
      "text/html": [
       "<div>\n",
       "<style scoped>\n",
       "    .dataframe tbody tr th:only-of-type {\n",
       "        vertical-align: middle;\n",
       "    }\n",
       "\n",
       "    .dataframe tbody tr th {\n",
       "        vertical-align: top;\n",
       "    }\n",
       "\n",
       "    .dataframe thead th {\n",
       "        text-align: right;\n",
       "    }\n",
       "</style>\n",
       "<table border=\"1\" class=\"dataframe\">\n",
       "  <thead>\n",
       "    <tr style=\"text-align: right;\">\n",
       "      <th></th>\n",
       "      <th>coords</th>\n",
       "      <th>int1</th>\n",
       "      <th>int2</th>\n",
       "      <th>wref</th>\n",
       "      <th>w0</th>\n",
       "      <th>w1</th>\n",
       "      <th>w2</th>\n",
       "      <th>w3</th>\n",
       "      <th>w4</th>\n",
       "      <th>w5</th>\n",
       "      <th>w6</th>\n",
       "      <th>GroupNumber</th>\n",
       "    </tr>\n",
       "  </thead>\n",
       "  <tbody>\n",
       "    <tr>\n",
       "      <th>0</th>\n",
       "      <td>149558</td>\n",
       "      <td>117</td>\n",
       "      <td>0</td>\n",
       "      <td>0</td>\n",
       "      <td>1</td>\n",
       "      <td>0</td>\n",
       "      <td>1</td>\n",
       "      <td>0</td>\n",
       "      <td>0</td>\n",
       "      <td>0</td>\n",
       "      <td>0</td>\n",
       "      <td>1</td>\n",
       "    </tr>\n",
       "    <tr>\n",
       "      <th>1</th>\n",
       "      <td>205896</td>\n",
       "      <td>165</td>\n",
       "      <td>0</td>\n",
       "      <td>0</td>\n",
       "      <td>1</td>\n",
       "      <td>0</td>\n",
       "      <td>0</td>\n",
       "      <td>0</td>\n",
       "      <td>0</td>\n",
       "      <td>0</td>\n",
       "      <td>1</td>\n",
       "      <td>1</td>\n",
       "    </tr>\n",
       "    <tr>\n",
       "      <th>2</th>\n",
       "      <td>209992</td>\n",
       "      <td>111</td>\n",
       "      <td>0</td>\n",
       "      <td>0</td>\n",
       "      <td>1</td>\n",
       "      <td>0</td>\n",
       "      <td>0</td>\n",
       "      <td>0</td>\n",
       "      <td>0</td>\n",
       "      <td>0</td>\n",
       "      <td>1</td>\n",
       "      <td>1</td>\n",
       "    </tr>\n",
       "    <tr>\n",
       "      <th>3</th>\n",
       "      <td>239694</td>\n",
       "      <td>151</td>\n",
       "      <td>1</td>\n",
       "      <td>0</td>\n",
       "      <td>1</td>\n",
       "      <td>1</td>\n",
       "      <td>0</td>\n",
       "      <td>0</td>\n",
       "      <td>0</td>\n",
       "      <td>0</td>\n",
       "      <td>0</td>\n",
       "      <td>1</td>\n",
       "    </tr>\n",
       "    <tr>\n",
       "      <th>4</th>\n",
       "      <td>348983</td>\n",
       "      <td>102</td>\n",
       "      <td>0</td>\n",
       "      <td>0</td>\n",
       "      <td>1</td>\n",
       "      <td>0</td>\n",
       "      <td>0</td>\n",
       "      <td>0</td>\n",
       "      <td>1</td>\n",
       "      <td>0</td>\n",
       "      <td>0</td>\n",
       "      <td>1</td>\n",
       "    </tr>\n",
       "    <tr>\n",
       "      <th>...</th>\n",
       "      <td>...</td>\n",
       "      <td>...</td>\n",
       "      <td>...</td>\n",
       "      <td>...</td>\n",
       "      <td>...</td>\n",
       "      <td>...</td>\n",
       "      <td>...</td>\n",
       "      <td>...</td>\n",
       "      <td>...</td>\n",
       "      <td>...</td>\n",
       "      <td>...</td>\n",
       "      <td>...</td>\n",
       "    </tr>\n",
       "    <tr>\n",
       "      <th>2181</th>\n",
       "      <td>7735529</td>\n",
       "      <td>75</td>\n",
       "      <td>35</td>\n",
       "      <td>6</td>\n",
       "      <td>0</td>\n",
       "      <td>0</td>\n",
       "      <td>0</td>\n",
       "      <td>1</td>\n",
       "      <td>0</td>\n",
       "      <td>0</td>\n",
       "      <td>1</td>\n",
       "      <td>1</td>\n",
       "    </tr>\n",
       "    <tr>\n",
       "      <th>2182</th>\n",
       "      <td>14984731</td>\n",
       "      <td>48</td>\n",
       "      <td>21</td>\n",
       "      <td>6</td>\n",
       "      <td>0</td>\n",
       "      <td>0</td>\n",
       "      <td>0</td>\n",
       "      <td>1</td>\n",
       "      <td>0</td>\n",
       "      <td>0</td>\n",
       "      <td>1</td>\n",
       "      <td>1</td>\n",
       "    </tr>\n",
       "    <tr>\n",
       "      <th>2183</th>\n",
       "      <td>15568514</td>\n",
       "      <td>12</td>\n",
       "      <td>1</td>\n",
       "      <td>6</td>\n",
       "      <td>0</td>\n",
       "      <td>0</td>\n",
       "      <td>0</td>\n",
       "      <td>0</td>\n",
       "      <td>1</td>\n",
       "      <td>0</td>\n",
       "      <td>1</td>\n",
       "      <td>1</td>\n",
       "    </tr>\n",
       "    <tr>\n",
       "      <th>2184</th>\n",
       "      <td>16041995</td>\n",
       "      <td>13</td>\n",
       "      <td>3</td>\n",
       "      <td>6</td>\n",
       "      <td>1</td>\n",
       "      <td>0</td>\n",
       "      <td>0</td>\n",
       "      <td>0</td>\n",
       "      <td>0</td>\n",
       "      <td>0</td>\n",
       "      <td>1</td>\n",
       "      <td>1</td>\n",
       "    </tr>\n",
       "    <tr>\n",
       "      <th>2185</th>\n",
       "      <td>16440995</td>\n",
       "      <td>9</td>\n",
       "      <td>0</td>\n",
       "      <td>6</td>\n",
       "      <td>1</td>\n",
       "      <td>0</td>\n",
       "      <td>0</td>\n",
       "      <td>0</td>\n",
       "      <td>0</td>\n",
       "      <td>0</td>\n",
       "      <td>1</td>\n",
       "      <td>1</td>\n",
       "    </tr>\n",
       "  </tbody>\n",
       "</table>\n",
       "<p>2186 rows × 12 columns</p>\n",
       "</div>"
      ],
      "text/plain": [
       "        coords  int1  int2  wref  w0  w1  w2  w3  w4  w5  w6  GroupNumber\n",
       "0       149558   117     0     0   1   0   1   0   0   0   0            1\n",
       "1       205896   165     0     0   1   0   0   0   0   0   1            1\n",
       "2       209992   111     0     0   1   0   0   0   0   0   1            1\n",
       "3       239694   151     1     0   1   1   0   0   0   0   0            1\n",
       "4       348983   102     0     0   1   0   0   0   1   0   0            1\n",
       "...        ...   ...   ...   ...  ..  ..  ..  ..  ..  ..  ..          ...\n",
       "2181   7735529    75    35     6   0   0   0   1   0   0   1            1\n",
       "2182  14984731    48    21     6   0   0   0   1   0   0   1            1\n",
       "2183  15568514    12     1     6   0   0   0   0   1   0   1            1\n",
       "2184  16041995    13     3     6   1   0   0   0   0   0   1            1\n",
       "2185  16440995     9     0     6   1   0   0   0   0   0   1            1\n",
       "\n",
       "[2186 rows x 12 columns]"
      ]
     },
     "execution_count": 122,
     "metadata": {},
     "output_type": "execute_result"
    }
   ],
   "source": [
    "df"
   ]
  },
  {
   "cell_type": "code",
   "execution_count": null,
   "metadata": {},
   "outputs": [],
   "source": []
  }
 ],
 "metadata": {
  "kernelspec": {
   "display_name": "Python 3 (ipykernel)",
   "language": "python",
   "name": "python3"
  },
  "language_info": {
   "codemirror_mode": {
    "name": "ipython",
    "version": 3
   },
   "file_extension": ".py",
   "mimetype": "text/x-python",
   "name": "python",
   "nbconvert_exporter": "python",
   "pygments_lexer": "ipython3",
   "version": "3.10.13"
  }
 },
 "nbformat": 4,
 "nbformat_minor": 4
}
