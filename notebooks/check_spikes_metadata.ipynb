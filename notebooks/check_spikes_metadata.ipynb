{
 "cells": [
  {
   "cell_type": "code",
   "execution_count": 24,
   "id": "09893212-1634-44f6-8010-69247272f932",
   "metadata": {},
   "outputs": [],
   "source": [
    "import fitsio\n",
    "f = '/home/rattie/Downloads/test/2018-01-01T00:00:00.57Z_0094.spikes.fits'"
   ]
  },
  {
   "cell_type": "code",
   "execution_count": 25,
   "id": "f46c1e2a-57df-430f-b60d-94b265120d5d",
   "metadata": {},
   "outputs": [],
   "source": [
    "data, header = fitsio.read(f, header=True)"
   ]
  },
  {
   "cell_type": "code",
   "execution_count": 26,
   "id": "163b4bc5-85b6-439f-a881-95d019b94fe7",
   "metadata": {},
   "outputs": [
    {
     "data": {
      "text/plain": [
       "\n",
       "XTENSION= 'BINTABLE'           / binary table extension\n",
       "BITPIX  =                    8 / 8-bit bytes\n",
       "NAXIS   =                    2 / 2-dimensional binary table\n",
       "NAXIS1  =                    8 / width of table in bytes\n",
       "NAXIS2  =                    3 / number of rows in table\n",
       "PCOUNT  =                38157 / size of special data area\n",
       "GCOUNT  =                    1 / one data group (required keyword)\n",
       "TFIELDS =                    1 / number of fields in each row\n",
       "TTYPE1  = 'COMPRESSED_DATA'    / label for field   1\n",
       "TFORM1  = '1PB(21429)'         / data format of field: variable length array\n",
       "ZIMAGE  =                    T / extension contains compressed image\n",
       "ZSIMPLE =                    T / file does conform to FITS standard\n",
       "ZBITPIX =                   32 / data type of original image\n",
       "ZNAXIS  =                    2 / dimension of original image\n",
       "ZNAXIS1 =                11907 / length of original image axis\n",
       "ZNAXIS2 =                    3 / length of original image axis\n",
       "ZTILE1  =                11907 / size of tiles to be compressed\n",
       "ZTILE2  =                    1 / size of tiles to be compressed\n",
       "ZCMPTYPE= 'RICE_1'             / compression algorithm\n",
       "ZNAME1  = 'BLOCKSIZE'          / compression block size\n",
       "ZVAL1   =                   32 / pixels per block\n",
       "ZNAME2  = 'BYTEPIX'            / bytes per pixel (1, 2, 4, or 8)\n",
       "ZVAL2   =                    4 / bytes per pixel (1, 2, 4, or 8)\n",
       "BLANK   =          -2147483648 / \n",
       "CHECKSUM= '5VcaASbW8SbaASbW'   / HDU checksum updated 2018-01-05T02:30:34\n",
       "DATASUM = '1615968432'         / data unit checksum updated 2018-01-05T02:30:34"
      ]
     },
     "execution_count": 26,
     "metadata": {},
     "output_type": "execute_result"
    }
   ],
   "source": [
    "header"
   ]
  },
  {
   "cell_type": "code",
   "execution_count": 22,
   "id": "681482c8-429a-47b1-8516-8ca0072a0ee4",
   "metadata": {},
   "outputs": [
    {
     "name": "stdout",
     "output_type": "stream",
     "text": [
      "\n",
      "  file: /mnt/data3/SDO/AIA/Spikes/2018/01/01/H0000/2018-01-01T00:00:00.57Z_0094.spikes.fits\n",
      "  mode: READONLY\n",
      "  extnum hdutype         hduname[v]\n",
      "  0      IMAGE_HDU       \n",
      "  1      IMAGE_HDU       \n"
     ]
    }
   ],
   "source": [
    "fits = fitsio.FITS(f)\n",
    "print(fits)"
   ]
  },
  {
   "cell_type": "code",
   "execution_count": 23,
   "id": "ccab8a7b-a558-4278-a665-98793c47ab31",
   "metadata": {},
   "outputs": [
    {
     "data": {
      "text/plain": [
       "\n",
       "XTENSION= 'BINTABLE'           / binary table extension\n",
       "BITPIX  =                    8 / 8-bit bytes\n",
       "NAXIS   =                    2 / 2-dimensional binary table\n",
       "NAXIS1  =                    8 / width of table in bytes\n",
       "NAXIS2  =                    3 / number of rows in table\n",
       "PCOUNT  =                38157 / size of special data area\n",
       "GCOUNT  =                    1 / one data group (required keyword)\n",
       "TFIELDS =                    1 / number of fields in each row\n",
       "TTYPE1  = 'COMPRESSED_DATA'    / label for field   1\n",
       "TFORM1  = '1PB(21429)'         / data format of field: variable length array\n",
       "ZIMAGE  =                    T / extension contains compressed image\n",
       "ZSIMPLE =                    T / file does conform to FITS standard\n",
       "ZBITPIX =                   32 / data type of original image\n",
       "ZNAXIS  =                    2 / dimension of original image\n",
       "ZNAXIS1 =                11907 / length of original image axis\n",
       "ZNAXIS2 =                    3 / length of original image axis\n",
       "ZTILE1  =                11907 / size of tiles to be compressed\n",
       "ZTILE2  =                    1 / size of tiles to be compressed\n",
       "ZCMPTYPE= 'RICE_1'             / compression algorithm\n",
       "ZNAME1  = 'BLOCKSIZE'          / compression block size\n",
       "ZVAL1   =                   32 / pixels per block\n",
       "ZNAME2  = 'BYTEPIX'            / bytes per pixel (1, 2, 4, or 8)\n",
       "ZVAL2   =                    4 / bytes per pixel (1, 2, 4, or 8)\n",
       "BLANK   =          -2147483648 / \n",
       "CHECKSUM= '5VcaASbW8SbaASbW'   / HDU checksum updated 2018-01-05T02:30:34\n",
       "DATASUM = '1615968432'         / data unit checksum updated 2018-01-05T02:30:34"
      ]
     },
     "execution_count": 23,
     "metadata": {},
     "output_type": "execute_result"
    }
   ],
   "source": [
    "fits[1].read_header()"
   ]
  },
  {
   "cell_type": "code",
   "execution_count": 8,
   "id": "b6eaa753-c386-4c60-9655-69f511533a07",
   "metadata": {},
   "outputs": [],
   "source": [
    "fits.close()"
   ]
  },
  {
   "cell_type": "code",
   "execution_count": null,
   "id": "7bdd9536-50ac-4a23-a9b1-9355d7280081",
   "metadata": {},
   "outputs": [],
   "source": []
  }
 ],
 "metadata": {
  "kernelspec": {
   "display_name": "Python 3 (ipykernel)",
   "language": "python",
   "name": "python3"
  },
  "language_info": {
   "codemirror_mode": {
    "name": "ipython",
    "version": 3
   },
   "file_extension": ".py",
   "mimetype": "text/x-python",
   "name": "python",
   "nbconvert_exporter": "python",
   "pygments_lexer": "ipython3",
   "version": "3.9.16"
  }
 },
 "nbformat": 4,
 "nbformat_minor": 5
}
