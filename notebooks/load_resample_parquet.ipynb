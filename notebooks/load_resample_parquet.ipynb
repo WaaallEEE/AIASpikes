{
 "cells": [
  {
   "cell_type": "code",
   "execution_count": 1,
   "id": "99a707d6-c7bf-4e7f-8b2b-aa6617fa7633",
   "metadata": {},
   "outputs": [],
   "source": [
    "import pandas as pd\n",
    "from pathlib import Path\n",
    "import glob\n",
    "import dask.dataframe as dd\n",
    "import numpy as np"
   ]
  },
  {
   "cell_type": "code",
   "execution_count": 2,
   "id": "25ffa766-26d7-4cdf-ac11-76cf82930b79",
   "metadata": {},
   "outputs": [
    {
     "data": {
      "text/plain": [
       "T_OBS\n",
       "2010-06-01 00:00:06.570000+00:00    18976\n",
       "2010-06-01 00:00:18.570000+00:00    18866\n",
       "2010-06-01 00:00:36.550000+00:00    21689\n",
       "2010-06-01 00:00:48.580000+00:00    20180\n",
       "2010-06-01 00:01:00.560000+00:00    21066\n",
       "Name: NSPIKES, dtype: uint32"
      ]
     },
     "execution_count": 2,
     "metadata": {},
     "output_type": "execute_result"
    }
   ],
   "source": [
    "# Read all files in `data/`, loading only 2 columns (e.g. 'NSPIKES' and 'WAVELNTH'). \n",
    "# You will probably add another 3rd column to correlate it with NSPIKES or something.\n",
    "df = dd.read_parquet(\"/mnt/data2/SDO/AIA/parquet/\", columns=['NSPIKES', 'WAVELNTH'])\n",
    "# Get the spikes for wavelength 171, convert to int32 for less memory. Doing \"compute()\"\n",
    "# at the end will convert the Dask dataframe to a Pandas dataframe loaded in memory. \n",
    "nspikes = df[df['WAVELNTH'] == 171]['NSPIKES'].astype(np.uint32).compute()\n",
    "nspikes.head()"
   ]
  },
  {
   "cell_type": "code",
   "execution_count": 3,
   "id": "dbe59716-a4fc-4e09-996c-5a10144896a9",
   "metadata": {},
   "outputs": [
    {
     "data": {
      "text/plain": [
       "T_OBS\n",
       "2010-06-01 00:00:00+00:00    18976\n",
       "2010-06-01 00:00:48+00:00    20180\n",
       "2010-06-01 00:01:36+00:00    19395\n",
       "2010-06-01 00:02:24+00:00    20221\n",
       "2010-06-01 00:03:12+00:00    21877\n",
       "Freq: 48S, Name: NSPIKES, dtype: uint32"
      ]
     },
     "execution_count": 3,
     "metadata": {},
     "output_type": "execute_result"
    }
   ],
   "source": [
    "# Resample to every 48s, use nearest neighbor. Nearest neighbor is only available in pandas. \n",
    "nspikes = nspikes.resample('48s').nearest()\n",
    "nspikes.head()"
   ]
  },
  {
   "cell_type": "code",
   "execution_count": null,
   "id": "4d3b3419-753d-45df-9c09-089326c46db4",
   "metadata": {},
   "outputs": [],
   "source": []
  }
 ],
 "metadata": {
  "kernelspec": {
   "display_name": "Python 3 (ipykernel)",
   "language": "python",
   "name": "python3"
  },
  "language_info": {
   "codemirror_mode": {
    "name": "ipython",
    "version": 3
   },
   "file_extension": ".py",
   "mimetype": "text/x-python",
   "name": "python",
   "nbconvert_exporter": "python",
   "pygments_lexer": "ipython3",
   "version": "3.8.10"
  }
 },
 "nbformat": 4,
 "nbformat_minor": 5
}
