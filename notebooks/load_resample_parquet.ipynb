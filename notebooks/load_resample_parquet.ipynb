{
 "cells": [
  {
   "cell_type": "code",
   "execution_count": 1,
   "id": "99a707d6-c7bf-4e7f-8b2b-aa6617fa7633",
   "metadata": {},
   "outputs": [],
   "source": [
    "import pandas as pd\n",
    "from pathlib import Path\n",
    "import glob\n",
    "import dask.dataframe as dd\n",
    "import numpy as np\n",
    "import matplotlib\n",
    "import matplotlib.pyplot as plt"
   ]
  },
  {
   "cell_type": "code",
   "execution_count": 2,
   "id": "25ffa766-26d7-4cdf-ac11-76cf82930b79",
   "metadata": {},
   "outputs": [
    {
     "data": {
      "text/plain": [
       "T_OBS\n",
       "2010-06-01 00:00:06.570000+00:00    18976\n",
       "2010-06-01 00:00:18.570000+00:00    18866\n",
       "2010-06-01 00:00:36.550000+00:00    21689\n",
       "2010-06-01 00:00:48.580000+00:00    20180\n",
       "2010-06-01 00:01:00.560000+00:00    21066\n",
       "Name: NSPIKES, dtype: uint32"
      ]
     },
     "execution_count": 2,
     "metadata": {},
     "output_type": "execute_result"
    }
   ],
   "source": [
    "# Read all files in `data/`, loading only 2 columns (e.g. 'NSPIKES' and 'WAVELNTH'). \n",
    "# You will probably add another 3rd column to correlate it with NSPIKES or something.\n",
    "df = dd.read_parquet(\"/mnt/data2/SDO/AIA/parquet/\", columns=['NSPIKES', 'WAVELNTH'])\n",
    "# Get the spikes for wavelength 171, convert to int32 for less memory. \n",
    "nspikes = df[df['WAVELNTH'] == 171]['NSPIKES'].astype(np.uint32)\n",
    "# Have a glance at the few first rows of that processing\n",
    "nspikes.head()"
   ]
  },
  {
   "cell_type": "code",
   "execution_count": 3,
   "id": "2d26c765-1f60-463a-aa6e-0562032454b0",
   "metadata": {},
   "outputs": [],
   "source": [
    "nspikes_pd = nspikes.compute()"
   ]
  },
  {
   "cell_type": "code",
   "execution_count": null,
   "id": "b0af2293-6e68-4109-90f7-9786cfa19583",
   "metadata": {},
   "outputs": [],
   "source": [
    "temp = nspikes.set_index(nspikes.index, sorted=True)"
   ]
  },
  {
   "cell_type": "code",
   "execution_count": null,
   "id": "dbe59716-a4fc-4e09-996c-5a10144896a9",
   "metadata": {},
   "outputs": [],
   "source": [
    "# Resample to every 48s using the mean of the 4x 12s bins. Nearest neighbor is only available in pandas. \n",
    "nspikes = nspikes.resample('48s').mean()\n",
    "# Have a glance at the few first rows of that processing\n",
    "nspikes.head()"
   ]
  },
  {
   "cell_type": "code",
   "execution_count": null,
   "id": "4d3b3419-753d-45df-9c09-089326c46db4",
   "metadata": {},
   "outputs": [],
   "source": [
    "# At this time, Dask just built a computational graph of what processes were asked. \n",
    "# It has not computed any data. Printing the data only shows the time index and few other info.\n",
    "print(nspikes)"
   ]
  },
  {
   "cell_type": "code",
   "execution_count": null,
   "id": "8590aba9-8e87-4e36-b6af-d2cacc81c9e0",
   "metadata": {},
   "outputs": [],
   "source": [
    "# Trigger the full processing with compute() to get the data processed and into a Pandas dataframe. \n",
    "nspikes_df = nspikes.compute()"
   ]
  },
  {
   "cell_type": "code",
   "execution_count": null,
   "id": "c8f74642-173e-49f5-aae3-e1247c9b0cbe",
   "metadata": {},
   "outputs": [],
   "source": [
    "# This time everything has computed, you see mean values every 48s, from 2010 to 2022\n",
    "print(nspikes_df)"
   ]
  },
  {
   "cell_type": "code",
   "execution_count": null,
   "id": "c6cb4500-aca4-4ddd-b8db-a36fa1f06268",
   "metadata": {},
   "outputs": [],
   "source": [
    "# Plot them over the 11 years, no need to have the 48s, you can again resample at, say '24h'\n",
    "# This time everything is in memory as a pandas dataframe, no need to call compute()\n",
    "fig = plt.figure(figsize=[10, 5])\n",
    "nspikes_df.resample('24h').mean().plot()"
   ]
  },
  {
   "cell_type": "markdown",
   "id": "3adbe3c8-f011-485c-8595-178bd7f62dd3",
   "metadata": {},
   "source": []
  }
 ],
 "metadata": {
  "kernelspec": {
   "display_name": "Python 3 (ipykernel)",
   "language": "python",
   "name": "python3"
  },
  "language_info": {
   "codemirror_mode": {
    "name": "ipython",
    "version": 3
   },
   "file_extension": ".py",
   "mimetype": "text/x-python",
   "name": "python",
   "nbconvert_exporter": "python",
   "pygments_lexer": "ipython3",
   "version": "3.8.16"
  }
 },
 "nbformat": 4,
 "nbformat_minor": 5
}
