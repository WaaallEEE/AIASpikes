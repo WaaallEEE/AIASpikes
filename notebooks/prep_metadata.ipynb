{
 "cells": [
  {
   "cell_type": "code",
   "execution_count": null,
   "id": "e50cc5f1-c4ba-4277-b072-7bb61d483879",
   "metadata": {},
   "outputs": [],
   "source": [
    "import pandas as pd\n",
    "from pathlib import Path\n",
    "import glob"
   ]
  },
  {
   "cell_type": "code",
   "execution_count": null,
   "id": "33d3642f-cc94-447a-aabd-76c7e5bc10e6",
   "metadata": {},
   "outputs": [],
   "source": [
    "def prep_keys(df):\n",
    "    df.drop('T_REC', axis=1, inplace=True)\n",
    "    df.drop('WAVE_STR', axis=1, inplace=True)\n",
    "    df.drop('PIXLUNIT', axis=1, inplace=True)\n",
    "    date_obs_c = df['DATE__OBS'].apply(lambda dobs: fix_date_obs(dobs))\n",
    "    df['DATE_OBS_c'] = date_obs_c\n",
    "    df['T_OBS'] = pd.to_datetime(df['T_OBS'], utc=True)\n",
    "    df['DATE'] = pd.to_datetime(df['DATE'], utc=True)\n",
    "    df.set_index('T_OBS', inplace=True)\n",
    "    return \n",
    "\n",
    "def fix_date_obs(dobs):\n",
    "    sec = pd.Timedelta(int(dobs[-6:-4]), unit='s')\n",
    "    if sec < pd.Timedelta(60, unit='s'):\n",
    "        return pd.to_datetime(dobs, utc=True)\n",
    "    print(dobs)\n",
    "    trunc_date = pd.to_datetime(dobs[0:-7], utc=True)\n",
    "    hundredth_sec =  pd.Timedelta(int(dobs[-3:-1])/100, unit='s')\n",
    "    corrected_date = trunc_date + sec + hundredth_sec\n",
    "    print('corrected: ', corrected_date)\n",
    "    return corrected_date"
   ]
  },
  {
   "cell_type": "code",
   "execution_count": null,
   "id": "576d99c2-1d77-47a1-a153-f2ed5ccc5160",
   "metadata": {},
   "outputs": [],
   "source": [
    "files = sorted(glob.glob('/mnt/data2/SDO/AIA/keys*.txt'))\n",
    "fpaths = [Path(f) for f in files]\n",
    "fpaths"
   ]
  },
  {
   "cell_type": "code",
   "execution_count": null,
   "id": "93cadbb4-4faa-48c0-8b60-04a0344680cd",
   "metadata": {},
   "outputs": [],
   "source": [
    "for f in fpaths:\n",
    "    print(f)\n",
    "    df = pd.read_csv(f, delimiter='\\t')\n",
    "    prep_keys(df)\n",
    "    df.to_parquet(f.with_suffix('.parquet'))"
   ]
  },
  {
   "cell_type": "code",
   "execution_count": null,
   "id": "2d5a5913-f1ae-44fe-9383-c2191403d2ae",
   "metadata": {},
   "outputs": [],
   "source": []
  }
 ],
 "metadata": {
  "kernelspec": {
   "display_name": "Python 3 (ipykernel)",
   "language": "python",
   "name": "python3"
  },
  "language_info": {
   "codemirror_mode": {
    "name": "ipython",
    "version": 3
   },
   "file_extension": ".py",
   "mimetype": "text/x-python",
   "name": "python",
   "nbconvert_exporter": "python",
   "pygments_lexer": "ipython3",
   "version": "3.8.10"
  }
 },
 "nbformat": 4,
 "nbformat_minor": 5
}
