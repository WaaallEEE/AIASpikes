{
 "cells": [
  {
   "cell_type": "code",
   "execution_count": null,
   "id": "e50cc5f1-c4ba-4277-b072-7bb61d483879",
   "metadata": {},
   "outputs": [],
   "source": [
    "import pandas as pd\n",
    "from pathlib import Path\n",
    "import glob\n",
    "import dask.dataframe as dd"
   ]
  },
  {
   "cell_type": "code",
   "execution_count": null,
   "id": "33d3642f-cc94-447a-aabd-76c7e5bc10e6",
   "metadata": {},
   "outputs": [],
   "source": [
    "# Read all files in `data/`, loading only 2 columns (e.g. 'NSPIKES' and 'WAVELNTH'). \n",
    "# You will probably add another 3rd column to correlate it with NSPIKES or something.\n",
    "df = dd.read_parquet(\"/mnt/data2/SDO/AIA/parquet/\", memory_map=True)\n",
    "\n",
    "# Export to 20 `.parquet` files\n",
    "df.repartition(npartitions=200).to_parquet(\"/mnt/data2/SDO/AIA/parquet/combined\")"
   ]
  },
  {
   "cell_type": "code",
   "execution_count": null,
   "id": "c72bdb2c-25cc-4e19-8f62-cbdc0fd53398",
   "metadata": {},
   "outputs": [],
   "source": []
  },
  {
   "cell_type": "code",
   "execution_count": null,
   "id": "b635dd4d-fae3-41c5-a8f4-efff8ef25a95",
   "metadata": {},
   "outputs": [],
   "source": []
  }
 ],
 "metadata": {
  "kernelspec": {
   "display_name": "Python 3 (ipykernel)",
   "language": "python",
   "name": "python3"
  },
  "language_info": {
   "codemirror_mode": {
    "name": "ipython",
    "version": 3
   },
   "file_extension": ".py",
   "mimetype": "text/x-python",
   "name": "python",
   "nbconvert_exporter": "python",
   "pygments_lexer": "ipython3",
   "version": "3.8.10"
  }
 },
 "nbformat": 4,
 "nbformat_minor": 5
}
